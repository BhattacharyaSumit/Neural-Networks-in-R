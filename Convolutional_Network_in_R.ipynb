{
  "nbformat": 4,
  "nbformat_minor": 0,
  "metadata": {
    "colab": {
      "name": "Convolutional Network in R.ipynb",
      "version": "0.3.2",
      "provenance": [],
      "collapsed_sections": []
    },
    "kernelspec": {
      "name": "ir",
      "display_name": "R"
    },
    "accelerator": "GPU"
  },
  "cells": [
    {
      "cell_type": "code",
      "metadata": {
        "id": "SPYGePw53fWq",
        "colab_type": "code",
        "colab": {}
      },
      "source": [
        "system(\"add-apt-repository -y ppa:marutter/rrutter\")\n",
        "system(\"add-apt-repository -y ppa:marutter/c2d4u\")\n",
        "system(\"apt-get update\")\n",
        "system(\"apt install -y r-cran-rstan\")"
      ],
      "execution_count": 0,
      "outputs": []
    },
    {
      "cell_type": "code",
      "metadata": {
        "id": "3o11KxDzyC0g",
        "colab_type": "code",
        "colab": {}
      },
      "source": [
        "install.packages('keras')"
      ],
      "execution_count": 0,
      "outputs": []
    },
    {
      "cell_type": "code",
      "metadata": {
        "id": "zHNAUvy0JOnN",
        "colab_type": "code",
        "colab": {}
      },
      "source": [
        "library(keras)\n",
        "library(tensorflow)"
      ],
      "execution_count": 0,
      "outputs": []
    },
    {
      "cell_type": "code",
      "metadata": {
        "id": "EZEKYR2WJ-cY",
        "colab_type": "code",
        "colab": {}
      },
      "source": [
        "system(\"sudo apt-get install python-virtualenv\")"
      ],
      "execution_count": 0,
      "outputs": []
    },
    {
      "cell_type": "code",
      "metadata": {
        "id": "GlhXiVZeJ7QN",
        "colab_type": "code",
        "colab": {}
      },
      "source": [
        "install_tensorflow()"
      ],
      "execution_count": 0,
      "outputs": []
    },
    {
      "cell_type": "code",
      "metadata": {
        "id": "O3cm7iDSLrtA",
        "colab_type": "code",
        "colab": {}
      },
      "source": [
        "library(keras)"
      ],
      "execution_count": 0,
      "outputs": []
    },
    {
      "cell_type": "markdown",
      "metadata": {
        "id": "K8v2PCqu8AaZ",
        "colab_type": "text"
      },
      "source": [
        "Fetching the Data from internal Keras Datasets."
      ]
    },
    {
      "cell_type": "code",
      "metadata": {
        "id": "59P5XIjBLyN4",
        "colab_type": "code",
        "colab": {}
      },
      "source": [
        "cfr <- dataset_cifar10()"
      ],
      "execution_count": 0,
      "outputs": []
    },
    {
      "cell_type": "code",
      "metadata": {
        "id": "Lkmhc8QcMFcQ",
        "colab_type": "code",
        "colab": {}
      },
      "source": [
        "X_tr <- cfr$train$x\n",
        "y_tr <- to_categorical(cfr$train$y, num_classes=10)"
      ],
      "execution_count": 0,
      "outputs": []
    },
    {
      "cell_type": "code",
      "metadata": {
        "id": "gxItrY1EMr7m",
        "colab_type": "code",
        "colab": {}
      },
      "source": [
        "X_ts <- cfr$test$x\n",
        "y_ts <- to_categorical(cfr$test$y, num_classes=10)"
      ],
      "execution_count": 0,
      "outputs": []
    },
    {
      "cell_type": "code",
      "metadata": {
        "id": "4R-CoU77WGh3",
        "colab_type": "code",
        "colab": {}
      },
      "source": [
        "# Rescaling the data into the range 0 to 1\n",
        "X_tr <- X_tr/255\n",
        "X_ts <- X_ts/255"
      ],
      "execution_count": 0,
      "outputs": []
    },
    {
      "cell_type": "code",
      "metadata": {
        "id": "6zfZHGhTM-HQ",
        "colab_type": "code",
        "colab": {
          "base_uri": "https://localhost:8080/",
          "height": 51
        },
        "outputId": "ff530d15-8d98-44cf-d8cf-ef77c0126969"
      },
      "source": [
        "cat(\"Training X\\t\",dim(X_tr),\"   Training y\\t\",dim(y_tr),\"\\n\", \"Testing X\\t\",dim(X_ts),\"   Testing y\\t\",dim(y_ts))"
      ],
      "execution_count": 31,
      "outputs": [
        {
          "output_type": "stream",
          "text": [
            "Training X\t 50000 32 32 3    Training y\t 50000 10 \n",
            " Testing X\t 10000 32 32 3    Testing y\t 10000 10"
          ],
          "name": "stdout"
        }
      ]
    },
    {
      "cell_type": "markdown",
      "metadata": {
        "id": "chUbaaHUAbzZ",
        "colab_type": "text"
      },
      "source": [
        "###The Architecture of the Model\n",
        "\n",
        "Convolution Layer (with activation \"Relu\")  --------> Convolution Layer (with activation \"Relu\") -----------> Max Pooling Layer (with 26 % dropout)  --------------> Convolution Layer(with activation \"Relu\") --------> Convolution Layer (with activation \"Relu\") -----------> Max Pooling Layer (with 26 % dropout)  ------------> Flattening Layer ------------> Dense Layer(with activation \"Relu\"  and 50% dropout) ---------------> Final Dense  Layer(with activation \"SoftMax\").      \n",
        "  "
      ]
    },
    {
      "cell_type": "code",
      "metadata": {
        "id": "12aeB2FrO5YX",
        "colab_type": "code",
        "colab": {}
      },
      "source": [
        "model <- keras_model_sequential()\n",
        "\n",
        "model %>% layer_conv_2d(filter=32, padding='same', input_shape=c(32,32,3), kernel_size=c(3,3)) %>%\n",
        "          layer_activation(\"relu\") %>%\n",
        "          layer_conv_2d(filter=32, kernel_size=c(3,3)) %>%\n",
        "          layer_activation(\"relu\")%>%\n",
        "          layer_max_pooling_2d(pool_size=c(2,2))%>%\n",
        "          layer_dropout(0.26) %>%\n",
        "          layer_conv_2d(filter=32, padding='same', kernel_size=c(3,3)) %>%\n",
        "          layer_activation(\"relu\")%>%\n",
        "          layer_conv_2d(filter=32, kernel_size=c(3,3)) %>%\n",
        "          layer_activation(\"relu\") %>%\n",
        "          layer_max_pooling_2d(pool_size=c(2,2)) %>%\n",
        "          layer_dropout(0.26) %>%\n",
        "          layer_flatten() %>%\n",
        "          layer_dense(512) %>% \n",
        "          layer_activation(\"relu\") %>%\n",
        "          layer_dropout(0.5) %>%\n",
        "          layer_dense(10) %>%\n",
        "          layer_activation(\"softmax\")"
      ],
      "execution_count": 0,
      "outputs": []
    },
    {
      "cell_type": "code",
      "metadata": {
        "id": "xiziyWeuTWdu",
        "colab_type": "code",
        "colab": {}
      },
      "source": [
        "opt <- optimizer_adam(lr=0.0001, decay=1e-6)"
      ],
      "execution_count": 0,
      "outputs": []
    },
    {
      "cell_type": "code",
      "metadata": {
        "id": "arAD22ouUVeg",
        "colab_type": "code",
        "colab": {}
      },
      "source": [
        "model %>% compile(loss='categorical_crossentropy', optimizer = opt, metrics=\"accuracy\")"
      ],
      "execution_count": 0,
      "outputs": []
    },
    {
      "cell_type": "code",
      "metadata": {
        "id": "N4ZQbtGWWcmm",
        "colab_type": "code",
        "colab": {
          "base_uri": "https://localhost:8080/",
          "height": 748
        },
        "outputId": "243e1f48-c464-4a2c-870b-17d29f18300e"
      },
      "source": [
        "#Summary of the model\n",
        "summary(model)"
      ],
      "execution_count": 102,
      "outputs": [
        {
          "output_type": "stream",
          "text": [
            "________________________________________________________________________________\n",
            "Layer (type)                        Output Shape                    Param #     \n",
            "================================================================================\n",
            "conv2d (Conv2D)                     (None, 32, 32, 32)              896         \n",
            "________________________________________________________________________________\n",
            "activation (Activation)             (None, 32, 32, 32)              0           \n",
            "________________________________________________________________________________\n",
            "conv2d_1 (Conv2D)                   (None, 30, 30, 32)              9248        \n",
            "________________________________________________________________________________\n",
            "activation_1 (Activation)           (None, 30, 30, 32)              0           \n",
            "________________________________________________________________________________\n",
            "max_pooling2d (MaxPooling2D)        (None, 15, 15, 32)              0           \n",
            "________________________________________________________________________________\n",
            "dropout (Dropout)                   (None, 15, 15, 32)              0           \n",
            "________________________________________________________________________________\n",
            "conv2d_2 (Conv2D)                   (None, 15, 15, 32)              9248        \n",
            "________________________________________________________________________________\n",
            "activation_2 (Activation)           (None, 15, 15, 32)              0           \n",
            "________________________________________________________________________________\n",
            "conv2d_3 (Conv2D)                   (None, 13, 13, 32)              9248        \n",
            "________________________________________________________________________________\n",
            "activation_3 (Activation)           (None, 13, 13, 32)              0           \n",
            "________________________________________________________________________________\n",
            "max_pooling2d_1 (MaxPooling2D)      (None, 6, 6, 32)                0           \n",
            "________________________________________________________________________________\n",
            "dropout_1 (Dropout)                 (None, 6, 6, 32)                0           \n",
            "________________________________________________________________________________\n",
            "flatten (Flatten)                   (None, 1152)                    0           \n",
            "________________________________________________________________________________\n",
            "dense (Dense)                       (None, 512)                     590336      \n",
            "________________________________________________________________________________\n",
            "activation_4 (Activation)           (None, 512)                     0           \n",
            "________________________________________________________________________________\n",
            "dropout_2 (Dropout)                 (None, 512)                     0           \n",
            "________________________________________________________________________________\n",
            "dense_1 (Dense)                     (None, 10)                      5130        \n",
            "________________________________________________________________________________\n",
            "activation_5 (Activation)           (None, 10)                      0           \n",
            "================================================================================\n",
            "Total params: 624,106\n",
            "Trainable params: 624,106\n",
            "Non-trainable params: 0\n",
            "________________________________________________________________________________\n"
          ],
          "name": "stdout"
        }
      ]
    },
    {
      "cell_type": "markdown",
      "metadata": {
        "id": "5HNSoMGyCUbf",
        "colab_type": "text"
      },
      "source": [
        "#### Training and Capturing the History"
      ]
    },
    {
      "cell_type": "code",
      "metadata": {
        "id": "yjLV8mZXYGSZ",
        "colab_type": "code",
        "colab": {}
      },
      "source": [
        "hist <- model %>% fit(X_tr, y_tr,\n",
        "      batch_size=32,\n",
        "      shuffle =TRUE,\n",
        "      validation_data = list(X_ts, y_ts) )"
      ],
      "execution_count": 0,
      "outputs": []
    },
    {
      "cell_type": "code",
      "metadata": {
        "id": "QprYSt0c3knb",
        "colab_type": "code",
        "colab": {
          "base_uri": "https://localhost:8080/",
          "height": 102
        },
        "outputId": "fbe04b0c-98bd-4d52-fc58-ae283c6eb10e"
      },
      "source": [
        "library(ggplot2)"
      ],
      "execution_count": 104,
      "outputs": [
        {
          "output_type": "stream",
          "text": [
            "Registered S3 methods overwritten by 'ggplot2':\n",
            "  method         from \n",
            "  [.quosures     rlang\n",
            "  c.quosures     rlang\n",
            "  print.quosures rlang\n"
          ],
          "name": "stderr"
        }
      ]
    },
    {
      "cell_type": "markdown",
      "metadata": {
        "id": "syQtA2daCdh8",
        "colab_type": "text"
      },
      "source": [
        "#### Plot of the Training History"
      ]
    },
    {
      "cell_type": "code",
      "metadata": {
        "id": "YLdPbYlt30iH",
        "colab_type": "code",
        "colab": {
          "base_uri": "https://localhost:8080/",
          "height": 877
        },
        "outputId": "e0d9bd75-5c4b-42df-c4eb-465d3db0ebd2"
      },
      "source": [
        "plot(hist, method = \"ggplot2\", theme_bw = getOption(\"keras.plot.history.theme_bw\", FALSE))"
      ],
      "execution_count": 120,
      "outputs": [
        {
          "output_type": "display_data",
          "data": {
            "image/png": "[encoded data removed]",
            "text/plain": [
              "plot without title"
            ]
          },
          "metadata": {
            "tags": []
          }
        }
      ]
    },
    {
      "cell_type": "markdown",
      "metadata": {
        "id": "Y5pa1sMnCiYe",
        "colab_type": "text"
      },
      "source": [
        "#### Prediciton of the Classes"
      ]
    },
    {
      "cell_type": "code",
      "metadata": {
        "id": "qoW26bU3qNn6",
        "colab_type": "code",
        "colab": {}
      },
      "source": [
        "pred_class <- model %>% predict_classes(X_ts)"
      ],
      "execution_count": 0,
      "outputs": []
    },
    {
      "cell_type": "code",
      "metadata": {
        "id": "Vq5KeGVhrqwu",
        "colab_type": "code",
        "colab": {
          "base_uri": "https://localhost:8080/",
          "height": 34
        },
        "outputId": "3c53dc98-176b-4195-92e6-680ec0838537"
      },
      "source": [
        "sum(cfr$test$y == as.matrix(pred_class)) /nrow(cfr$test$y)"
      ],
      "execution_count": 117,
      "outputs": [
        {
          "output_type": "display_data",
          "data": {
            "text/plain": [
              "[1] 0.6713"
            ],
            "text/latex": "0.6713",
            "text/markdown": "0.6713",
            "text/html": [
              "0.6713"
            ]
          },
          "metadata": {
            "tags": []
          }
        }
      ]
    },
    {
      "cell_type": "markdown",
      "metadata": {
        "id": "pBISZu8eCwCj",
        "colab_type": "text"
      },
      "source": [
        "**The simple CNN gives as accuracy of over 67%. This can be further optimized by hyperparameter tuning.**"
      ]
    },
    {
      "cell_type": "markdown",
      "metadata": {
        "id": "sMNuISfIVapA",
        "colab_type": "text"
      },
      "source": [
        "## Transfer Learning\n",
        "\n",
        "Transfer Learning can be used for better prediction. Fine tuning of the predefined model is needed..\n",
        "\n",
        "I am using VGG16 here. It is trained to predict one out of 1000 classes.  The output shape has to be 10.  The input shape has to be (32,32,3) instead of the regular (224,224,3) on which VGG16 is trained."
      ]
    },
    {
      "cell_type": "code",
      "metadata": {
        "id": "aPl5VjKUEm8V",
        "colab_type": "code",
        "colab": {}
      },
      "source": [
        "input_tensor <- layer_input(shape = c(32, 32, 3))\n",
        "\n",
        "model_new <- application_vgg16(input_tensor = input_tensor, \n",
        "                                  weights='imagenet', \n",
        "                                  include_top = FALSE)"
      ],
      "execution_count": 0,
      "outputs": []
    },
    {
      "cell_type": "code",
      "metadata": {
        "id": "qm1EQunPFu2C",
        "colab_type": "code",
        "colab": {
          "base_uri": "https://localhost:8080/",
          "height": 782
        },
        "outputId": "86275c09-342e-469d-d977-7217fad74f8c"
      },
      "source": [
        "summary(model_new)"
      ],
      "execution_count": 127,
      "outputs": [
        {
          "output_type": "stream",
          "text": [
            "________________________________________________________________________________\n",
            "Layer (type)                        Output Shape                    Param #     \n",
            "================================================================================\n",
            "input_3 (InputLayer)                (None, 32, 32, 3)               0           \n",
            "________________________________________________________________________________\n",
            "block1_conv1 (Conv2D)               (None, 32, 32, 64)              1792        \n",
            "________________________________________________________________________________\n",
            "block1_conv2 (Conv2D)               (None, 32, 32, 64)              36928       \n",
            "________________________________________________________________________________\n",
            "block1_pool (MaxPooling2D)          (None, 16, 16, 64)              0           \n",
            "________________________________________________________________________________\n",
            "block2_conv1 (Conv2D)               (None, 16, 16, 128)             73856       \n",
            "________________________________________________________________________________\n",
            "block2_conv2 (Conv2D)               (None, 16, 16, 128)             147584      \n",
            "________________________________________________________________________________\n",
            "block2_pool (MaxPooling2D)          (None, 8, 8, 128)               0           \n",
            "________________________________________________________________________________\n",
            "block3_conv1 (Conv2D)               (None, 8, 8, 256)               295168      \n",
            "________________________________________________________________________________\n",
            "block3_conv2 (Conv2D)               (None, 8, 8, 256)               590080      \n",
            "________________________________________________________________________________\n",
            "block3_conv3 (Conv2D)               (None, 8, 8, 256)               590080      \n",
            "________________________________________________________________________________\n",
            "block3_pool (MaxPooling2D)          (None, 4, 4, 256)               0           \n",
            "________________________________________________________________________________\n",
            "block4_conv1 (Conv2D)               (None, 4, 4, 512)               1180160     \n",
            "________________________________________________________________________________\n",
            "block4_conv2 (Conv2D)               (None, 4, 4, 512)               2359808     \n",
            "________________________________________________________________________________\n",
            "block4_conv3 (Conv2D)               (None, 4, 4, 512)               2359808     \n",
            "________________________________________________________________________________\n",
            "block4_pool (MaxPooling2D)          (None, 2, 2, 512)               0           \n",
            "________________________________________________________________________________\n",
            "block5_conv1 (Conv2D)               (None, 2, 2, 512)               2359808     \n",
            "________________________________________________________________________________\n",
            "block5_conv2 (Conv2D)               (None, 2, 2, 512)               2359808     \n",
            "________________________________________________________________________________\n",
            "block5_conv3 (Conv2D)               (None, 2, 2, 512)               2359808     \n",
            "________________________________________________________________________________\n",
            "block5_pool (MaxPooling2D)          (None, 1, 1, 512)               0           \n",
            "================================================================================\n",
            "Total params: 14,714,688\n",
            "Trainable params: 14,714,688\n",
            "Non-trainable params: 0\n",
            "________________________________________________________________________________\n"
          ],
          "name": "stdout"
        }
      ]
    },
    {
      "cell_type": "code",
      "metadata": {
        "id": "04L1XONhGGrN",
        "colab_type": "code",
        "colab": {}
      },
      "source": [
        "predictions <- model_new$output %>% \n",
        "  layer_global_average_pooling_2d() %>% \n",
        "  layer_dense(units = 256, activation = 'relu') %>% \n",
        "  layer_dense(units = 128, activation = 'relu') %>%\n",
        "  layer_dense(units = 10, activation ='softmax')"
      ],
      "execution_count": 0,
      "outputs": []
    },
    {
      "cell_type": "markdown",
      "metadata": {
        "id": "0A5nOz2uWo3e",
        "colab_type": "text"
      },
      "source": [
        "The final needs to be stacked as a combination of the base model and new 10 output layer"
      ]
    },
    {
      "cell_type": "code",
      "metadata": {
        "id": "EjOSURChGJkp",
        "colab_type": "code",
        "colab": {}
      },
      "source": [
        "model_tuned <- keras_model(inputs = model_new$input, outputs = predictions)"
      ],
      "execution_count": 0,
      "outputs": []
    },
    {
      "cell_type": "markdown",
      "metadata": {
        "id": "kjJelN0gW2s1",
        "colab_type": "text"
      },
      "source": [
        "First of all, the entire VGG16 model should not be trained. The topmost layer (which has been changed from 1000 to 10) is to be trained."
      ]
    },
    {
      "cell_type": "code",
      "metadata": {
        "id": "92iWWbsFG-9e",
        "colab_type": "code",
        "colab": {}
      },
      "source": [
        "freeze_weights(model_new)\n",
        "model_tuned %>% compile(optimizer = 'adam', loss = 'categorical_crossentropy', metrics='accuracy')"
      ],
      "execution_count": 0,
      "outputs": []
    },
    {
      "cell_type": "code",
      "metadata": {
        "id": "yKcrjWGMHTuD",
        "colab_type": "code",
        "colab": {}
      },
      "source": [
        "model_tuned %>% fit(X_tr, y_tr,\n",
        "      batch_size=32,\n",
        "      shuffle =TRUE,\n",
        "      validation_data = list(X_ts, y_ts) )"
      ],
      "execution_count": 0,
      "outputs": []
    },
    {
      "cell_type": "markdown",
      "metadata": {
        "id": "CbI-GFi0XJ5Z",
        "colab_type": "text"
      },
      "source": [
        "Now, as the topmost layer is trained well, the entire model or the latter part of it can be fine-tuned by training. I won't train the entire model as it will be time consuming."
      ]
    },
    {
      "cell_type": "code",
      "metadata": {
        "id": "ArW8_6c3H3Ld",
        "colab_type": "code",
        "colab": {
          "base_uri": "https://localhost:8080/",
          "height": 340
        },
        "outputId": "040aee34-45b2-4481-f88b-b833d7e2f7d9"
      },
      "source": [
        "layers <- model_new$layers\n",
        "for (i in 1:length(layers))\n",
        "  cat(i, layers[[i]]$name, \"\\n\")"
      ],
      "execution_count": 133,
      "outputs": [
        {
          "output_type": "stream",
          "text": [
            "1 input_3 \n",
            "2 block1_conv1 \n",
            "3 block1_conv2 \n",
            "4 block1_pool \n",
            "5 block2_conv1 \n",
            "6 block2_conv2 \n",
            "7 block2_pool \n",
            "8 block3_conv1 \n",
            "9 block3_conv2 \n",
            "10 block3_conv3 \n",
            "11 block3_pool \n",
            "12 block4_conv1 \n",
            "13 block4_conv2 \n",
            "14 block4_conv3 \n",
            "15 block4_pool \n",
            "16 block5_conv1 \n",
            "17 block5_conv2 \n",
            "18 block5_conv3 \n",
            "19 block5_pool \n"
          ],
          "name": "stdout"
        }
      ]
    },
    {
      "cell_type": "code",
      "metadata": {
        "id": "UgxCkmksXnpa",
        "colab_type": "code",
        "colab": {
          "base_uri": "https://localhost:8080/",
          "height": 408
        },
        "outputId": "9ef0af0f-ea40-4807-af82-b29034982c96"
      },
      "source": [
        "layers_entire <- model_tuned$layers\n",
        "for(i in 1:length(layers_entire))\n",
        "  cat(i, layers_entire[[i]]$name, \"\\n\")"
      ],
      "execution_count": 138,
      "outputs": [
        {
          "output_type": "stream",
          "text": [
            "1 input_3 \n",
            "2 block1_conv1 \n",
            "3 block1_conv2 \n",
            "4 block1_pool \n",
            "5 block2_conv1 \n",
            "6 block2_conv2 \n",
            "7 block2_pool \n",
            "8 block3_conv1 \n",
            "9 block3_conv2 \n",
            "10 block3_conv3 \n",
            "11 block3_pool \n",
            "12 block4_conv1 \n",
            "13 block4_conv2 \n",
            "14 block4_conv3 \n",
            "15 block4_pool \n",
            "16 block5_conv1 \n",
            "17 block5_conv2 \n",
            "18 block5_conv3 \n",
            "19 block5_pool \n",
            "20 global_average_pooling2d \n",
            "21 dense_2 \n",
            "22 dense_3 \n",
            "23 dense_4 \n"
          ],
          "name": "stdout"
        }
      ]
    },
    {
      "cell_type": "markdown",
      "metadata": {
        "id": "v4ljuUuOXgGt",
        "colab_type": "text"
      },
      "source": [
        "I wil fine tune only from the 5th block onwards (layer 16 onwards)"
      ]
    },
    {
      "cell_type": "code",
      "metadata": {
        "id": "qp9DrWF7UJnm",
        "colab_type": "code",
        "colab": {}
      },
      "source": [
        "freeze_weights(model_new, from = 1, to = 15)\n",
        "unfreeze_weights(model_new, from = 16)"
      ],
      "execution_count": 0,
      "outputs": []
    },
    {
      "cell_type": "code",
      "metadata": {
        "id": "JKOoJGRlUYj5",
        "colab_type": "code",
        "colab": {}
      },
      "source": [
        "model_tuned %>% compile(\n",
        "  optimizer = optimizer_sgd(lr = 0.0001, momentum = 0.9), \n",
        "  loss = 'categorical_crossentropy'\n",
        ")"
      ],
      "execution_count": 0,
      "outputs": []
    },
    {
      "cell_type": "code",
      "metadata": {
        "id": "eLLOltiDUlAT",
        "colab_type": "code",
        "colab": {}
      },
      "source": [
        "model_tuned %>% fit(X_tr, y_tr,\n",
        "      batch_size=32,\n",
        "      shuffle =TRUE,\n",
        "      validation_data = list(X_ts, y_ts))"
      ],
      "execution_count": 0,
      "outputs": []
    },
    {
      "cell_type": "code",
      "metadata": {
        "id": "iUKHBgAcUyAO",
        "colab_type": "code",
        "colab": {}
      },
      "source": [
        "pred_class_new <- model_tuned %>% predict_classes(X_ts)"
      ],
      "execution_count": 0,
      "outputs": []
    },
    {
      "cell_type": "code",
      "metadata": {
        "id": "3lPMki6hU95R",
        "colab_type": "code",
        "colab": {
          "base_uri": "https://localhost:8080/",
          "height": 34
        },
        "outputId": "3714c6bc-b9ba-4dcf-9785-b8be58e2dd9b"
      },
      "source": [
        "sum(cfr$test$y == as.matrix(pred_class)) /nrow(cfr$test$y)"
      ],
      "execution_count": 139,
      "outputs": [
        {
          "output_type": "display_data",
          "data": {
            "text/plain": [
              "[1] 0.9001"
            ],
            "text/latex": "0.9001",
            "text/markdown": "0.9001",
            "text/html": [
              "0.9001"
            ]
          },
          "metadata": {
            "tags": []
          }
        }
      ]
    },
    {
      "cell_type": "markdown",
      "metadata": {
        "id": "ycKwET-hYPyi",
        "colab_type": "text"
      },
      "source": [
        "_The Accuracy drastically increases here due to Transfer Learning. A better fine-tuning can help to increase the accuracy._"
      ]
    }
  ]
}