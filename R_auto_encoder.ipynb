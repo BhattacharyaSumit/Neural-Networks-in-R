{
  "nbformat": 4,
  "nbformat_minor": 0,
  "metadata": {
    "colab": {
      "name": "R_auto-encoder.ipynb",
      "version": "0.3.2",
      "provenance": [],
      "collapsed_sections": []
    },
    "kernelspec": {
      "name": "ir",
      "display_name": "R"
    },
    "accelerator": "GPU"
  },
  "cells": [
    {
      "cell_type": "markdown",
      "metadata": {
        "id": "4fZppgO6Y4Rd",
        "colab_type": "text"
      },
      "source": [
        "For proper functioning of R, this commands are to be  executed. Unlike in the Python runtime where command line statements are written directly , in R system function has to be used and the commands are passed as strings."
      ]
    },
    {
      "cell_type": "code",
      "metadata": {
        "id": "SPYGePw53fWq",
        "colab_type": "code",
        "colab": {}
      },
      "source": [
        "system(\"add-apt-repository -y ppa:marutter/rrutter\")\n",
        "system(\"add-apt-repository -y ppa:marutter/c2d4u\")\n",
        "system(\"apt-get update\")\n",
        "system(\"apt install -y r-cran-rstan\")"
      ],
      "execution_count": 0,
      "outputs": []
    },
    {
      "cell_type": "markdown",
      "metadata": {
        "id": "MychkDRAZg8E",
        "colab_type": "text"
      },
      "source": [
        "Keras Package is needed to be installed."
      ]
    },
    {
      "cell_type": "code",
      "metadata": {
        "id": "1IzjHJFxv01f",
        "colab_type": "code",
        "outputId": "80a3b1fd-84fb-4bc0-bf7c-18355043118e",
        "colab": {
          "base_uri": "https://localhost:8080/",
          "height": 85
        }
      },
      "source": [
        "install.packages('keras')\n"
      ],
      "execution_count": 0,
      "outputs": [
        {
          "output_type": "stream",
          "text": [
            "Installing package into ‘/usr/local/lib/R/site-library’\n",
            "(as ‘lib’ is unspecified)\n",
            "also installing the dependencies ‘config’, ‘reticulate’, ‘tensorflow’, ‘tfruns’\n",
            "\n"
          ],
          "name": "stderr"
        }
      ]
    },
    {
      "cell_type": "markdown",
      "metadata": {
        "id": "PRG-KhAahKv4",
        "colab_type": "text"
      },
      "source": [
        "Now, to activate tensorflow backend for Keras , installation of tensorflow is requirerd. For that, Keras and its attached Tensorflow support are to be loaded into the R environment."
      ]
    },
    {
      "cell_type": "code",
      "metadata": {
        "id": "sdyV67dk2vGx",
        "colab_type": "code",
        "colab": {}
      },
      "source": [
        "library(keras)\n",
        "library(tensorflow)"
      ],
      "execution_count": 0,
      "outputs": []
    },
    {
      "cell_type": "markdown",
      "metadata": {
        "id": "xcZpEHJuh9Ft",
        "colab_type": "text"
      },
      "source": [
        "To install Tensorflow,  Python Virtual Envirnoment has to be simulated within R."
      ]
    },
    {
      "cell_type": "code",
      "metadata": {
        "id": "bxprwEW6W609",
        "colab_type": "code",
        "colab": {}
      },
      "source": [
        "system(\"sudo apt-get install python-virtualenv\")"
      ],
      "execution_count": 0,
      "outputs": []
    },
    {
      "cell_type": "code",
      "metadata": {
        "id": "BxrwOnXtWyf0",
        "colab_type": "code",
        "colab": {}
      },
      "source": [
        "install_tensorflow()"
      ],
      "execution_count": 0,
      "outputs": []
    },
    {
      "cell_type": "markdown",
      "metadata": {
        "id": "3Yh646i2iWOj",
        "colab_type": "text"
      },
      "source": [
        "The MNIST Dataset is present on Colab as well as within Keras. I am using the Keras versio of the dataset."
      ]
    },
    {
      "cell_type": "code",
      "metadata": {
        "id": "OmZV_jh3YMB2",
        "colab_type": "code",
        "colab": {}
      },
      "source": [
        "mnist <- dataset_mnist()"
      ],
      "execution_count": 0,
      "outputs": []
    },
    {
      "cell_type": "code",
      "metadata": {
        "id": "zN3ULfMdYWML",
        "colab_type": "code",
        "colab": {}
      },
      "source": [
        "X_train <- mnist$train$x\n",
        "y_train <- mnist$train$y\n",
        "X_test <- mnist$test$x\n",
        "y_test <- mnist$test$y"
      ],
      "execution_count": 0,
      "outputs": []
    },
    {
      "cell_type": "code",
      "metadata": {
        "id": "IUCUQLCoYbWs",
        "colab_type": "code",
        "colab": {}
      },
      "source": [
        "y_train <- sapply(y_train, function(x){ ifelse(x==7,\"outlier\",\"normal\")})\n",
        "y_test <- sapply(y_test, function(x){ ifelse(x==7,\"outlier\",\"normal\")})"
      ],
      "execution_count": 0,
      "outputs": []
    },
    {
      "cell_type": "code",
      "metadata": {
        "id": "pExaEDZkYtl8",
        "colab_type": "code",
        "colab": {}
      },
      "source": [
        "# Setting the plot display options\n",
        "options(repr.plot.width  = 5,\n",
        "        repr.plot.height = 5)"
      ],
      "execution_count": 0,
      "outputs": []
    },
    {
      "cell_type": "code",
      "metadata": {
        "id": "LxgGweAWYhte",
        "colab_type": "code",
        "outputId": "311ac53b-c44f-4cbc-9191-3708afc1eded",
        "colab": {
          "base_uri": "https://localhost:8080/",
          "height": 634
        }
      },
      "source": [
        "# A random image from the training set.\n",
        "image(X_train[1,,], col=gray.colors(3))\n",
        "y_train[1]"
      ],
      "execution_count": 0,
      "outputs": [
        {
          "output_type": "display_data",
          "data": {
            "text/plain": [
              "[1] \"normal\""
            ],
            "text/latex": "'normal'",
            "text/markdown": "'normal'",
            "text/html": [
              "'normal'"
            ]
          },
          "metadata": {
            "tags": []
          }
        },
        {
          "output_type": "display_data",
          "data": {
            "image/png": "[encoded data removed]",
            "text/plain": [
              "plot without title"
            ]
          },
          "metadata": {
            "tags": []
          }
        }
      ]
    },
    {
      "cell_type": "code",
      "metadata": {
        "id": "hCzNk5r1Y4Ze",
        "colab_type": "code",
        "colab": {}
      },
      "source": [
        "# Reshaping the Datatset into (number of samples , 28*28) datatset\n",
        "dim(X_train) <- c(nrow(X_train), 784)\n",
        "dim(X_test) <- c(nrow(X_test), 784)\n",
        "\n",
        "# Rescaling the dataset from 0 to 1 as Convolutional Layers converge efficiently here\n",
        "X_train <- X_train / 255\n",
        "X_test <- X_test / 255"
      ],
      "execution_count": 0,
      "outputs": []
    },
    {
      "cell_type": "code",
      "metadata": {
        "id": "f4mKh6wbY4V0",
        "colab_type": "code",
        "colab": {}
      },
      "source": [
        "input_dim <- 784 \n",
        "inner_layer_dim <- 32"
      ],
      "execution_count": 0,
      "outputs": []
    },
    {
      "cell_type": "markdown",
      "metadata": {
        "id": "3eO2XL3dju87",
        "colab_type": "text"
      },
      "source": [
        "Now, the AutoEncoder is defined here."
      ]
    },
    {
      "cell_type": "code",
      "metadata": {
        "id": "tSlUCx3vY4SH",
        "colab_type": "code",
        "colab": {}
      },
      "source": [
        "input_layer <- layer_input(shape=c(input_dim))\n",
        "encoder <- layer_dense(units=inner_layer_dim, activation='relu')(input_layer)\n",
        "decoder <- layer_dense(units=784)(encoder)\n",
        "autoencoder <- keras_model(inputs=input_layer, outputs = decoder)"
      ],
      "execution_count": 0,
      "outputs": []
    },
    {
      "cell_type": "code",
      "metadata": {
        "id": "OHn-TrWoY4OQ",
        "colab_type": "code",
        "colab": {}
      },
      "source": [
        "autoencoder %>% compile(optimizer='adam', \n",
        "                        loss='mean_squared_error', \n",
        "                        metrics=c('accuracy'))"
      ],
      "execution_count": 0,
      "outputs": []
    },
    {
      "cell_type": "markdown",
      "metadata": {
        "id": "ROxpt8HOkn8t",
        "colab_type": "text"
      },
      "source": [
        "#### Training"
      ]
    },
    {
      "cell_type": "code",
      "metadata": {
        "id": "3cnfmIFzY4K-",
        "colab_type": "code",
        "colab": {}
      },
      "source": [
        "history <- autoencoder %>% fit(\n",
        "  X_train,X_train, \n",
        "  epochs = 50, batch_size = 256, \n",
        "  validation_split=0.2\n",
        ")"
      ],
      "execution_count": 0,
      "outputs": []
    },
    {
      "cell_type": "code",
      "metadata": {
        "id": "8x_bFO8lY4HQ",
        "colab_type": "code",
        "outputId": "09d4230d-667a-46d7-e511-f40917a50171",
        "colab": {
          "base_uri": "https://localhost:8080/",
          "height": 702
        }
      },
      "source": [
        "plot(history)"
      ],
      "execution_count": 0,
      "outputs": [
        {
          "output_type": "stream",
          "text": [
            "Registered S3 methods overwritten by 'ggplot2':\n",
            "  method         from \n",
            "  [.quosures     rlang\n",
            "  c.quosures     rlang\n",
            "  print.quosures rlang\n"
          ],
          "name": "stderr"
        },
        {
          "output_type": "display_data",
          "data": {
            "image/png": "[encoded data removed]",
            "text/plain": [
              "plot without title"
            ]
          },
          "metadata": {
            "tags": []
          }
        }
      ]
    },
    {
      "cell_type": "markdown",
      "metadata": {
        "id": "KTd0JnK7kSc4",
        "colab_type": "text"
      },
      "source": [
        "#### Prediction"
      ]
    },
    {
      "cell_type": "code",
      "metadata": {
        "id": "kALYkTo1Y4DZ",
        "colab_type": "code",
        "colab": {}
      },
      "source": [
        "preds <- autoencoder %>% predict(X_test)"
      ],
      "execution_count": 0,
      "outputs": []
    },
    {
      "cell_type": "code",
      "metadata": {
        "id": "Tah7ttMDY3_5",
        "colab_type": "code",
        "colab": {}
      },
      "source": [
        "squared_error <- rowSums((preds-X_test)**2)"
      ],
      "execution_count": 0,
      "outputs": []
    },
    {
      "cell_type": "code",
      "metadata": {
        "id": "NgmOcejGY38a",
        "colab_type": "code",
        "outputId": "d2ece32e-51ad-4147-edb6-91dc763acf75",
        "colab": {
          "base_uri": "https://localhost:8080/",
          "height": 34
        }
      },
      "source": [
        "mean(squared_error)"
      ],
      "execution_count": 0,
      "outputs": [
        {
          "output_type": "display_data",
          "data": {
            "text/plain": [
              "[1] 13.28231"
            ],
            "text/latex": "13.2823096573482",
            "text/markdown": "13.2823096573482",
            "text/html": [
              "13.2823096573482"
            ]
          },
          "metadata": {
            "tags": []
          }
        }
      ]
    },
    {
      "cell_type": "code",
      "metadata": {
        "id": "8cTV50whY3zD",
        "colab_type": "code",
        "outputId": "5331463c-96ef-4da1-841c-06d57596eda4",
        "colab": {
          "base_uri": "https://localhost:8080/",
          "height": 307
        }
      },
      "source": [
        "eval <- data.frame(error=squared_error, class=as.factor(y_test))\n",
        "library(dplyr)\n",
        "eval %>% group_by(class) %>% summarise(avg_error=mean(error))"
      ],
      "execution_count": 0,
      "outputs": [
        {
          "output_type": "stream",
          "text": [
            "\n",
            "Attaching package: ‘dplyr’\n",
            "\n",
            "The following objects are masked from ‘package:stats’:\n",
            "\n",
            "    filter, lag\n",
            "\n",
            "The following objects are masked from ‘package:base’:\n",
            "\n",
            "    intersect, setdiff, setequal, union\n",
            "\n"
          ],
          "name": "stderr"
        },
        {
          "output_type": "display_data",
          "data": {
            "text/plain": [
              "  class   avg_error\n",
              "1 normal  13.45679 \n",
              "2 outlier 11.75953 "
            ],
            "text/latex": "A tibble: 2 × 2\n\\begin{tabular}{r|ll}\n class & avg\\_error\\\\\n <fct> & <dbl>\\\\\n\\hline\n\t normal  & 13.45679\\\\\n\t outlier & 11.75953\\\\\n\\end{tabular}\n",
            "text/markdown": "\nA tibble: 2 × 2\n\n| class &lt;fct&gt; | avg_error &lt;dbl&gt; |\n|---|---|\n| normal  | 13.45679 |\n| outlier | 11.75953 |\n\n",
            "text/html": [
              "<table>\n",
              "<caption>A tibble: 2 × 2</caption>\n",
              "<thead>\n",
              "\t<tr><th scope=col>class</th><th scope=col>avg_error</th></tr>\n",
              "\t<tr><th scope=col>&lt;fct&gt;</th><th scope=col>&lt;dbl&gt;</th></tr>\n",
              "</thead>\n",
              "<tbody>\n",
              "\t<tr><td>normal </td><td>13.45679</td></tr>\n",
              "\t<tr><td>outlier</td><td>11.75953</td></tr>\n",
              "</tbody>\n",
              "</table>\n"
            ]
          },
          "metadata": {
            "tags": []
          }
        }
      ]
    },
    {
      "cell_type": "code",
      "metadata": {
        "id": "S6O8Nt7CY3oY",
        "colab_type": "code",
        "outputId": "d7032fd7-7c2e-4659-8d90-7faaf1bde6a3",
        "colab": {
          "base_uri": "https://localhost:8080/",
          "height": 617
        }
      },
      "source": [
        "library(ggplot2)\n",
        "eval %>% \n",
        "  group_by(class) %>% \n",
        "  summarise(avg_error=mean(error)) %>% \n",
        "  ggplot(aes(x=class,fill=class,y=avg_error))+geom_col()"
      ],
      "execution_count": 0,
      "outputs": [
        {
          "output_type": "display_data",
          "data": {
            "image/png": "[encoded data removed]",
            "text/plain": [
              "plot without title"
            ]
          },
          "metadata": {
            "tags": []
          }
        }
      ]
    },
    {
      "cell_type": "code",
      "metadata": {
        "id": "NzEbCXeXbhUL",
        "colab_type": "code",
        "colab": {}
      },
      "source": [
        "dim(X_test) <- c(nrow(X_test),28,28)\n",
        "dim(preds) <- c(nrow(preds),28,28)\n"
      ],
      "execution_count": 0,
      "outputs": []
    },
    {
      "cell_type": "code",
      "metadata": {
        "id": "nZBwxTeWbtn7",
        "colab_type": "code",
        "outputId": "d922a03a-ecf9-4ea2-a0b2-af1ff1d43c0e",
        "colab": {
          "base_uri": "https://localhost:8080/",
          "height": 1234
        }
      },
      "source": [
        "image(255*preds[1,,], col=gray.colors(3))\n",
        "y_test[1]\n",
        "image(255*X_test[1,,], col=gray.colors(3))"
      ],
      "execution_count": 0,
      "outputs": [
        {
          "output_type": "display_data",
          "data": {
            "text/plain": [
              "[1] \"outlier\""
            ],
            "text/latex": "'outlier'",
            "text/markdown": "'outlier'",
            "text/html": [
              "'outlier'"
            ]
          },
          "metadata": {
            "tags": []
          }
        },
        {
          "output_type": "display_data",
          "data": {
            "image/png": "[encoded data removed]",
            "text/plain": [
              "plot without title"
            ]
          },
          "metadata": {
            "tags": []
          }
        },
        {
          "output_type": "display_data",
          "data": {
            "image/png": "[encoded data removed]",
            "text/plain": [
              "plot without title"
            ]
          },
          "metadata": {
            "tags": []
          }
        }
      ]
    },
    {
      "cell_type": "markdown",
      "metadata": {
        "id": "zCfXmqOyk0oO",
        "colab_type": "text"
      },
      "source": [
        "This shows that this auto-encoder learns the features of the images well and is able to reconstruct the image."
      ]
    }
  ]
}